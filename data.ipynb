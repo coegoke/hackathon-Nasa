{
 "cells": [
  {
   "cell_type": "code",
   "execution_count": 1,
   "metadata": {},
   "outputs": [
    {
     "name": "stdout",
     "output_type": "stream",
     "text": [
      "[{'Country': 'Mexico', 'Category': 'GDP', 'DateTime': '1960-12-31T00:00:00', 'Value': 13.04, 'Frequency': 'Yearly', 'HistoricalDataSymbol': 'WGDPMEXI', 'LastUpdate': '2018-07-05T16:38:00'}, {'Country': 'Mexico', 'Category': 'GDP', 'DateTime': '1961-12-31T00:00:00', 'Value': 14.16, 'Frequency': 'Yearly', 'HistoricalDataSymbol': 'WGDPMEXI', 'LastUpdate': '2018-07-05T16:38:00'}, {'Country': 'Mexico', 'Category': 'GDP', 'DateTime': '1962-12-31T00:00:00', 'Value': 15.2, 'Frequency': 'Yearly', 'HistoricalDataSymbol': 'WGDPMEXI', 'LastUpdate': '2018-07-05T16:38:00'}, {'Country': 'Mexico', 'Category': 'GDP', 'DateTime': '1963-12-31T00:00:00', 'Value': 16.96, 'Frequency': 'Yearly', 'HistoricalDataSymbol': 'WGDPMEXI', 'LastUpdate': '2018-07-05T16:38:00'}, {'Country': 'Mexico', 'Category': 'GDP', 'DateTime': '1964-12-31T00:00:00', 'Value': 20.08, 'Frequency': 'Yearly', 'HistoricalDataSymbol': 'WGDPMEXI', 'LastUpdate': '2018-07-05T16:38:00'}, {'Country': 'Mexico', 'Category': 'GDP', 'DateTime': '1965-12-31T00:00:00', 'Value': 21.84, 'Frequency': 'Yearly', 'HistoricalDataSymbol': 'WGDPMEXI', 'LastUpdate': '2018-07-05T16:38:00'}, {'Country': 'Mexico', 'Category': 'GDP', 'DateTime': '1966-12-31T00:00:00', 'Value': 24.32, 'Frequency': 'Yearly', 'HistoricalDataSymbol': 'WGDPMEXI', 'LastUpdate': '2018-07-05T16:38:00'}, {'Country': 'Mexico', 'Category': 'GDP', 'DateTime': '1967-12-31T00:00:00', 'Value': 26.56, 'Frequency': 'Yearly', 'HistoricalDataSymbol': 'WGDPMEXI', 'LastUpdate': '2016-06-28T16:34:00'}, {'Country': 'Mexico', 'Category': 'GDP', 'DateTime': '1968-12-31T00:00:00', 'Value': 29.36, 'Frequency': 'Yearly', 'HistoricalDataSymbol': 'WGDPMEXI', 'LastUpdate': '2016-06-28T16:34:00'}, {'Country': 'Mexico', 'Category': 'GDP', 'DateTime': '1969-12-31T00:00:00', 'Value': 32.48, 'Frequency': 'Yearly', 'HistoricalDataSymbol': 'WGDPMEXI', 'LastUpdate': '2018-07-05T16:38:00'}, {'Country': 'Mexico', 'Category': 'GDP', 'DateTime': '1970-12-31T00:00:00', 'Value': 35.52, 'Frequency': 'Yearly', 'HistoricalDataSymbol': 'WGDPMEXI', 'LastUpdate': '2018-07-05T16:38:00'}, {'Country': 'Mexico', 'Category': 'GDP', 'DateTime': '1971-12-31T00:00:00', 'Value': 39.2, 'Frequency': 'Yearly', 'HistoricalDataSymbol': 'WGDPMEXI', 'LastUpdate': '2016-06-28T16:34:00'}, {'Country': 'Mexico', 'Category': 'GDP', 'DateTime': '1972-12-31T00:00:00', 'Value': 45.2, 'Frequency': 'Yearly', 'HistoricalDataSymbol': 'WGDPMEXI', 'LastUpdate': '2018-07-05T16:38:00'}, {'Country': 'Mexico', 'Category': 'GDP', 'DateTime': '1973-12-31T00:00:00', 'Value': 55.28, 'Frequency': 'Yearly', 'HistoricalDataSymbol': 'WGDPMEXI', 'LastUpdate': '2018-07-05T16:38:00'}, {'Country': 'Mexico', 'Category': 'GDP', 'DateTime': '1974-12-31T00:00:00', 'Value': 72.0, 'Frequency': 'Yearly', 'HistoricalDataSymbol': 'WGDPMEXI', 'LastUpdate': '2018-07-05T16:38:00'}, {'Country': 'Mexico', 'Category': 'GDP', 'DateTime': '1975-12-31T00:00:00', 'Value': 88.0, 'Frequency': 'Yearly', 'HistoricalDataSymbol': 'WGDPMEXI', 'LastUpdate': '2016-06-28T16:34:00'}, {'Country': 'Mexico', 'Category': 'GDP', 'DateTime': '1976-12-31T00:00:00', 'Value': 88.88, 'Frequency': 'Yearly', 'HistoricalDataSymbol': 'WGDPMEXI', 'LastUpdate': '2023-06-30T15:54:00'}, {'Country': 'Mexico', 'Category': 'GDP', 'DateTime': '1977-12-31T00:00:00', 'Value': 81.91, 'Frequency': 'Yearly', 'HistoricalDataSymbol': 'WGDPMEXI', 'LastUpdate': '2023-06-30T15:54:00'}, {'Country': 'Mexico', 'Category': 'GDP', 'DateTime': '1978-12-31T00:00:00', 'Value': 102.65, 'Frequency': 'Yearly', 'HistoricalDataSymbol': 'WGDPMEXI', 'LastUpdate': '2023-06-30T15:54:00'}, {'Country': 'Mexico', 'Category': 'GDP', 'DateTime': '1979-12-31T00:00:00', 'Value': 134.53, 'Frequency': 'Yearly', 'HistoricalDataSymbol': 'WGDPMEXI', 'LastUpdate': '2023-06-30T15:54:00'}, {'Country': 'Mexico', 'Category': 'GDP', 'DateTime': '1980-12-31T00:00:00', 'Value': 205.58, 'Frequency': 'Yearly', 'HistoricalDataSymbol': 'WGDPMEXI', 'LastUpdate': '2023-06-30T15:54:00'}, {'Country': 'Mexico', 'Category': 'GDP', 'DateTime': '1981-12-31T00:00:00', 'Value': 263.8, 'Frequency': 'Yearly', 'HistoricalDataSymbol': 'WGDPMEXI', 'LastUpdate': '2023-06-30T15:54:00'}, {'Country': 'Mexico', 'Category': 'GDP', 'DateTime': '1982-12-31T00:00:00', 'Value': 184.6, 'Frequency': 'Yearly', 'HistoricalDataSymbol': 'WGDPMEXI', 'LastUpdate': '2023-06-30T15:54:00'}, {'Country': 'Mexico', 'Category': 'GDP', 'DateTime': '1983-12-31T00:00:00', 'Value': 156.17, 'Frequency': 'Yearly', 'HistoricalDataSymbol': 'WGDPMEXI', 'LastUpdate': '2023-06-30T15:54:00'}, {'Country': 'Mexico', 'Category': 'GDP', 'DateTime': '1984-12-31T00:00:00', 'Value': 184.23, 'Frequency': 'Yearly', 'HistoricalDataSymbol': 'WGDPMEXI', 'LastUpdate': '2023-06-30T15:54:00'}, {'Country': 'Mexico', 'Category': 'GDP', 'DateTime': '1985-12-31T00:00:00', 'Value': 195.24, 'Frequency': 'Yearly', 'HistoricalDataSymbol': 'WGDPMEXI', 'LastUpdate': '2023-06-30T15:54:00'}, {'Country': 'Mexico', 'Category': 'GDP', 'DateTime': '1986-12-31T00:00:00', 'Value': 134.56, 'Frequency': 'Yearly', 'HistoricalDataSymbol': 'WGDPMEXI', 'LastUpdate': '2023-06-30T15:54:00'}, {'Country': 'Mexico', 'Category': 'GDP', 'DateTime': '1987-12-31T00:00:00', 'Value': 147.54, 'Frequency': 'Yearly', 'HistoricalDataSymbol': 'WGDPMEXI', 'LastUpdate': '2019-04-08T16:15:00'}, {'Country': 'Mexico', 'Category': 'GDP', 'DateTime': '1988-12-31T00:00:00', 'Value': 181.61, 'Frequency': 'Yearly', 'HistoricalDataSymbol': 'WGDPMEXI', 'LastUpdate': '2019-04-08T16:15:00'}, {'Country': 'Mexico', 'Category': 'GDP', 'DateTime': '1989-12-31T00:00:00', 'Value': 221.4, 'Frequency': 'Yearly', 'HistoricalDataSymbol': 'WGDPMEXI', 'LastUpdate': '2019-04-08T16:15:00'}, {'Country': 'Mexico', 'Category': 'GDP', 'DateTime': '1990-12-31T00:00:00', 'Value': 261.25, 'Frequency': 'Yearly', 'HistoricalDataSymbol': 'WGDPMEXI', 'LastUpdate': '2019-04-08T16:15:00'}, {'Country': 'Mexico', 'Category': 'GDP', 'DateTime': '1991-12-31T00:00:00', 'Value': 313.14, 'Frequency': 'Yearly', 'HistoricalDataSymbol': 'WGDPMEXI', 'LastUpdate': '2019-04-08T16:15:00'}, {'Country': 'Mexico', 'Category': 'GDP', 'DateTime': '1992-12-31T00:00:00', 'Value': 363.16, 'Frequency': 'Yearly', 'HistoricalDataSymbol': 'WGDPMEXI', 'LastUpdate': '2019-04-08T16:15:00'}, {'Country': 'Mexico', 'Category': 'GDP', 'DateTime': '1993-12-31T00:00:00', 'Value': 530.16, 'Frequency': 'Yearly', 'HistoricalDataSymbol': 'WGDPMEXI', 'LastUpdate': '2024-01-02T15:00:00'}, {'Country': 'Mexico', 'Category': 'GDP', 'DateTime': '1994-12-31T00:00:00', 'Value': 553.62, 'Frequency': 'Yearly', 'HistoricalDataSymbol': 'WGDPMEXI', 'LastUpdate': '2024-01-02T15:00:00'}, {'Country': 'Mexico', 'Category': 'GDP', 'DateTime': '1995-12-31T00:00:00', 'Value': 380.16, 'Frequency': 'Yearly', 'HistoricalDataSymbol': 'WGDPMEXI', 'LastUpdate': '2024-01-02T15:00:00'}, {'Country': 'Mexico', 'Category': 'GDP', 'DateTime': '1996-12-31T00:00:00', 'Value': 432.16, 'Frequency': 'Yearly', 'HistoricalDataSymbol': 'WGDPMEXI', 'LastUpdate': '2024-01-02T15:00:00'}, {'Country': 'Mexico', 'Category': 'GDP', 'DateTime': '1997-12-31T00:00:00', 'Value': 523.45, 'Frequency': 'Yearly', 'HistoricalDataSymbol': 'WGDPMEXI', 'LastUpdate': '2024-01-02T15:00:00'}, {'Country': 'Mexico', 'Category': 'GDP', 'DateTime': '1998-12-31T00:00:00', 'Value': 557.46, 'Frequency': 'Yearly', 'HistoricalDataSymbol': 'WGDPMEXI', 'LastUpdate': '2024-01-02T15:00:00'}, {'Country': 'Mexico', 'Category': 'GDP', 'DateTime': '1999-12-31T00:00:00', 'Value': 631.25, 'Frequency': 'Yearly', 'HistoricalDataSymbol': 'WGDPMEXI', 'LastUpdate': '2024-01-02T15:00:00'}, {'Country': 'Mexico', 'Category': 'GDP', 'DateTime': '2000-12-31T00:00:00', 'Value': 742.06, 'Frequency': 'Yearly', 'HistoricalDataSymbol': 'WGDPMEXI', 'LastUpdate': '2024-01-02T15:00:00'}, {'Country': 'Mexico', 'Category': 'GDP', 'DateTime': '2001-12-31T00:00:00', 'Value': 796.06, 'Frequency': 'Yearly', 'HistoricalDataSymbol': 'WGDPMEXI', 'LastUpdate': '2024-01-02T15:00:00'}, {'Country': 'Mexico', 'Category': 'GDP', 'DateTime': '2002-12-31T00:00:00', 'Value': 810.67, 'Frequency': 'Yearly', 'HistoricalDataSymbol': 'WGDPMEXI', 'LastUpdate': '2024-01-02T15:00:00'}, {'Country': 'Mexico', 'Category': 'GDP', 'DateTime': '2003-12-31T00:00:00', 'Value': 765.55, 'Frequency': 'Yearly', 'HistoricalDataSymbol': 'WGDPMEXI', 'LastUpdate': '2024-01-02T15:00:00'}, {'Country': 'Mexico', 'Category': 'GDP', 'DateTime': '2004-12-31T00:00:00', 'Value': 819.46, 'Frequency': 'Yearly', 'HistoricalDataSymbol': 'WGDPMEXI', 'LastUpdate': '2024-01-02T15:00:00'}, {'Country': 'Mexico', 'Category': 'GDP', 'DateTime': '2005-12-31T00:00:00', 'Value': 917.57, 'Frequency': 'Yearly', 'HistoricalDataSymbol': 'WGDPMEXI', 'LastUpdate': '2024-01-02T15:00:00'}, {'Country': 'Mexico', 'Category': 'GDP', 'DateTime': '2006-12-31T00:00:00', 'Value': 1020.27, 'Frequency': 'Yearly', 'HistoricalDataSymbol': 'WGDPMEXI', 'LastUpdate': '2024-01-02T15:00:00'}, {'Country': 'Mexico', 'Category': 'GDP', 'DateTime': '2007-12-31T00:00:00', 'Value': 1102.36, 'Frequency': 'Yearly', 'HistoricalDataSymbol': 'WGDPMEXI', 'LastUpdate': '2024-01-02T15:00:00'}, {'Country': 'Mexico', 'Category': 'GDP', 'DateTime': '2008-12-31T00:00:00', 'Value': 1161.55, 'Frequency': 'Yearly', 'HistoricalDataSymbol': 'WGDPMEXI', 'LastUpdate': '2024-01-02T15:00:00'}, {'Country': 'Mexico', 'Category': 'GDP', 'DateTime': '2009-12-31T00:00:00', 'Value': 943.44, 'Frequency': 'Yearly', 'HistoricalDataSymbol': 'WGDPMEXI', 'LastUpdate': '2024-01-02T15:00:00'}, {'Country': 'Mexico', 'Category': 'GDP', 'DateTime': '2010-12-31T00:00:00', 'Value': 1105.42, 'Frequency': 'Yearly', 'HistoricalDataSymbol': 'WGDPMEXI', 'LastUpdate': '2024-01-02T15:00:00'}, {'Country': 'Mexico', 'Category': 'GDP', 'DateTime': '2011-12-31T00:00:00', 'Value': 1229.01, 'Frequency': 'Yearly', 'HistoricalDataSymbol': 'WGDPMEXI', 'LastUpdate': '2024-01-02T15:00:00'}, {'Country': 'Mexico', 'Category': 'GDP', 'DateTime': '2012-12-31T00:00:00', 'Value': 1255.11, 'Frequency': 'Yearly', 'HistoricalDataSymbol': 'WGDPMEXI', 'LastUpdate': '2024-01-02T15:00:00'}, {'Country': 'Mexico', 'Category': 'GDP', 'DateTime': '2013-12-31T00:00:00', 'Value': 1327.44, 'Frequency': 'Yearly', 'HistoricalDataSymbol': 'WGDPMEXI', 'LastUpdate': '2024-01-02T15:00:00'}, {'Country': 'Mexico', 'Category': 'GDP', 'DateTime': '2014-12-31T00:00:00', 'Value': 1364.51, 'Frequency': 'Yearly', 'HistoricalDataSymbol': 'WGDPMEXI', 'LastUpdate': '2024-01-02T15:00:00'}, {'Country': 'Mexico', 'Category': 'GDP', 'DateTime': '2015-12-31T00:00:00', 'Value': 1213.29, 'Frequency': 'Yearly', 'HistoricalDataSymbol': 'WGDPMEXI', 'LastUpdate': '2024-01-02T15:00:00'}, {'Country': 'Mexico', 'Category': 'GDP', 'DateTime': '2016-12-31T00:00:00', 'Value': 1112.23, 'Frequency': 'Yearly', 'HistoricalDataSymbol': 'WGDPMEXI', 'LastUpdate': '2024-01-02T15:00:00'}, {'Country': 'Mexico', 'Category': 'GDP', 'DateTime': '2017-12-31T00:00:00', 'Value': 1190.72, 'Frequency': 'Yearly', 'HistoricalDataSymbol': 'WGDPMEXI', 'LastUpdate': '2024-01-02T15:00:00'}, {'Country': 'Mexico', 'Category': 'GDP', 'DateTime': '2018-12-31T00:00:00', 'Value': 1256.3, 'Frequency': 'Yearly', 'HistoricalDataSymbol': 'WGDPMEXI', 'LastUpdate': '2024-01-02T15:00:00'}, {'Country': 'Mexico', 'Category': 'GDP', 'DateTime': '2019-12-31T00:00:00', 'Value': 1305.21, 'Frequency': 'Yearly', 'HistoricalDataSymbol': 'WGDPMEXI', 'LastUpdate': '2024-01-02T15:00:00'}, {'Country': 'Mexico', 'Category': 'GDP', 'DateTime': '2020-12-31T00:00:00', 'Value': 1120.832, 'Frequency': 'Yearly', 'HistoricalDataSymbol': 'WGDPMEXI', 'LastUpdate': '2024-07-01T15:27:00'}, {'Country': 'Mexico', 'Category': 'GDP', 'DateTime': '2021-12-31T00:00:00', 'Value': 1313.07, 'Frequency': 'Yearly', 'HistoricalDataSymbol': 'WGDPMEXI', 'LastUpdate': '2024-07-01T15:27:00'}, {'Country': 'Mexico', 'Category': 'GDP', 'DateTime': '2022-12-31T00:00:00', 'Value': 1463.324, 'Frequency': 'Yearly', 'HistoricalDataSymbol': 'WGDPMEXI', 'LastUpdate': '2024-07-01T15:27:00'}, {'Country': 'Mexico', 'Category': 'GDP', 'DateTime': '2023-12-31T00:00:00', 'Value': 1788.89, 'Frequency': 'Yearly', 'HistoricalDataSymbol': 'WGDPMEXI', 'LastUpdate': '2024-07-01T13:57:00'}, {'Country': 'Free accounts have access to the following countries: Mexico, New Zealand, Sweden, Thailand. For more, contact us at support@tradingeconomics.com.', 'Category': '', 'DateTime': '2024-10-05T08:51:06.0005543+00:00', 'Value': 0.0, 'Frequency': None, 'HistoricalDataSymbol': None, 'LastUpdate': None}]\n"
     ]
    }
   ],
   "source": [
    "import requests\n",
    "api_key = 'a14dbfbf9d9c471:z3svk6ban7bz7om'\n",
    "url = f'https://api.tradingeconomics.com/historical/country/mexico/indicator/gdp?c={api_key}'\n",
    "data = requests.get(url).json()\n",
    "print(data)\n"
   ]
  },
  {
   "cell_type": "code",
   "execution_count": 5,
   "metadata": {},
   "outputs": [
    {
     "name": "stdout",
     "output_type": "stream",
     "text": [
      "[{'Country': 'Free accounts have access to the following countries: Mexico, New Zealand, Sweden, Thailand. For more, contact us at support@tradingeconomics.com.', 'Category': '', 'DateTime': '2024-10-05T08:55:25.2014501+00:00', 'Value': 0.0, 'Frequency': None, 'HistoricalDataSymbol': None, 'LastUpdate': None}]\n"
     ]
    }
   ],
   "source": [
    "import requests\n",
    "# api_key = 'YOUR_API_KEY'\n",
    "url = f'https://api.tradingeconomics.com/historical/country/mexico,sweden/indicator/gdp,population/2015-01-01/2015-01-31?c={api_key}'\n",
    "data = requests.get(url).json()\n",
    "print(data)\n"
   ]
  },
  {
   "cell_type": "code",
   "execution_count": 10,
   "metadata": {},
   "outputs": [
    {
     "ename": "HTTPError",
     "evalue": "HTTP Error 403: No Access to this country as free user.",
     "output_type": "error",
     "traceback": [
      "\u001b[1;31m---------------------------------------------------------------------------\u001b[0m",
      "\u001b[1;31mHTTPError\u001b[0m                                 Traceback (most recent call last)",
      "Cell \u001b[1;32mIn[10], line 3\u001b[0m\n\u001b[0;32m      1\u001b[0m \u001b[38;5;28;01mimport\u001b[39;00m \u001b[38;5;21;01mtradingeconomics\u001b[39;00m \u001b[38;5;28;01mas\u001b[39;00m \u001b[38;5;21;01mte\u001b[39;00m\n\u001b[0;32m      2\u001b[0m te\u001b[38;5;241m.\u001b[39mlogin(api_key)\n\u001b[1;32m----> 3\u001b[0m te\u001b[38;5;241m.\u001b[39mgetHistoricalData(country\u001b[38;5;241m=\u001b[39m\u001b[38;5;124m'\u001b[39m\u001b[38;5;124munited states\u001b[39m\u001b[38;5;124m'\u001b[39m, indicator\u001b[38;5;241m=\u001b[39m\u001b[38;5;124m'\u001b[39m\u001b[38;5;124msoybean\u001b[39m\u001b[38;5;124m'\u001b[39m)\n",
      "File \u001b[1;32mc:\\Users\\fauzan\\anaconda3\\Lib\\site-packages\\tradingeconomics\\historical.py:196\u001b[0m, in \u001b[0;36mgetHistoricalData\u001b[1;34m(country, indicator, initDate, endDate, output_type)\u001b[0m\n\u001b[0;32m    193\u001b[0m \u001b[38;5;28;01mexcept\u001b[39;00m \u001b[38;5;167;01mAttributeError\u001b[39;00m:\n\u001b[0;32m    194\u001b[0m     \u001b[38;5;28;01mraise\u001b[39;00m LoginError(\u001b[38;5;124m'\u001b[39m\u001b[38;5;124mYou need to do login before making any request\u001b[39m\u001b[38;5;124m'\u001b[39m)\n\u001b[1;32m--> 196\u001b[0m \u001b[38;5;28;01mreturn\u001b[39;00m fn\u001b[38;5;241m.\u001b[39mdataRequest(api_request\u001b[38;5;241m=\u001b[39mlinkAPI, output_type\u001b[38;5;241m=\u001b[39moutput_type)\n",
      "File \u001b[1;32mc:\\Users\\fauzan\\anaconda3\\Lib\\site-packages\\tradingeconomics\\functions.py:136\u001b[0m, in \u001b[0;36mdataRequest\u001b[1;34m(api_request, output_type)\u001b[0m\n\u001b[0;32m    133\u001b[0m outputTypeCheck(output_type)\n\u001b[0;32m    135\u001b[0m \u001b[38;5;28;01mtry\u001b[39;00m:\n\u001b[1;32m--> 136\u001b[0m     response \u001b[38;5;241m=\u001b[39m urlopen(api_request)\n\u001b[0;32m    137\u001b[0m     code \u001b[38;5;241m=\u001b[39m response\u001b[38;5;241m.\u001b[39mgetcode()\n\u001b[0;32m    138\u001b[0m     webResultsRaw \u001b[38;5;241m=\u001b[39m json\u001b[38;5;241m.\u001b[39mloads(response\u001b[38;5;241m.\u001b[39mread()\u001b[38;5;241m.\u001b[39mdecode(\u001b[38;5;124m'\u001b[39m\u001b[38;5;124mutf-8\u001b[39m\u001b[38;5;124m'\u001b[39m))\n",
      "File \u001b[1;32mc:\\Users\\fauzan\\anaconda3\\Lib\\urllib\\request.py:215\u001b[0m, in \u001b[0;36murlopen\u001b[1;34m(url, data, timeout, cafile, capath, cadefault, context)\u001b[0m\n\u001b[0;32m    213\u001b[0m \u001b[38;5;28;01melse\u001b[39;00m:\n\u001b[0;32m    214\u001b[0m     opener \u001b[38;5;241m=\u001b[39m _opener\n\u001b[1;32m--> 215\u001b[0m \u001b[38;5;28;01mreturn\u001b[39;00m opener\u001b[38;5;241m.\u001b[39mopen(url, data, timeout)\n",
      "File \u001b[1;32mc:\\Users\\fauzan\\anaconda3\\Lib\\urllib\\request.py:521\u001b[0m, in \u001b[0;36mOpenerDirector.open\u001b[1;34m(self, fullurl, data, timeout)\u001b[0m\n\u001b[0;32m    519\u001b[0m \u001b[38;5;28;01mfor\u001b[39;00m processor \u001b[38;5;129;01min\u001b[39;00m \u001b[38;5;28mself\u001b[39m\u001b[38;5;241m.\u001b[39mprocess_response\u001b[38;5;241m.\u001b[39mget(protocol, []):\n\u001b[0;32m    520\u001b[0m     meth \u001b[38;5;241m=\u001b[39m \u001b[38;5;28mgetattr\u001b[39m(processor, meth_name)\n\u001b[1;32m--> 521\u001b[0m     response \u001b[38;5;241m=\u001b[39m meth(req, response)\n\u001b[0;32m    523\u001b[0m \u001b[38;5;28;01mreturn\u001b[39;00m response\n",
      "File \u001b[1;32mc:\\Users\\fauzan\\anaconda3\\Lib\\urllib\\request.py:630\u001b[0m, in \u001b[0;36mHTTPErrorProcessor.http_response\u001b[1;34m(self, request, response)\u001b[0m\n\u001b[0;32m    627\u001b[0m \u001b[38;5;66;03m# According to RFC 2616, \"2xx\" code indicates that the client's\u001b[39;00m\n\u001b[0;32m    628\u001b[0m \u001b[38;5;66;03m# request was successfully received, understood, and accepted.\u001b[39;00m\n\u001b[0;32m    629\u001b[0m \u001b[38;5;28;01mif\u001b[39;00m \u001b[38;5;129;01mnot\u001b[39;00m (\u001b[38;5;241m200\u001b[39m \u001b[38;5;241m<\u001b[39m\u001b[38;5;241m=\u001b[39m code \u001b[38;5;241m<\u001b[39m \u001b[38;5;241m300\u001b[39m):\n\u001b[1;32m--> 630\u001b[0m     response \u001b[38;5;241m=\u001b[39m \u001b[38;5;28mself\u001b[39m\u001b[38;5;241m.\u001b[39mparent\u001b[38;5;241m.\u001b[39merror(\n\u001b[0;32m    631\u001b[0m         \u001b[38;5;124m'\u001b[39m\u001b[38;5;124mhttp\u001b[39m\u001b[38;5;124m'\u001b[39m, request, response, code, msg, hdrs)\n\u001b[0;32m    633\u001b[0m \u001b[38;5;28;01mreturn\u001b[39;00m response\n",
      "File \u001b[1;32mc:\\Users\\fauzan\\anaconda3\\Lib\\urllib\\request.py:559\u001b[0m, in \u001b[0;36mOpenerDirector.error\u001b[1;34m(self, proto, *args)\u001b[0m\n\u001b[0;32m    557\u001b[0m \u001b[38;5;28;01mif\u001b[39;00m http_err:\n\u001b[0;32m    558\u001b[0m     args \u001b[38;5;241m=\u001b[39m (\u001b[38;5;28mdict\u001b[39m, \u001b[38;5;124m'\u001b[39m\u001b[38;5;124mdefault\u001b[39m\u001b[38;5;124m'\u001b[39m, \u001b[38;5;124m'\u001b[39m\u001b[38;5;124mhttp_error_default\u001b[39m\u001b[38;5;124m'\u001b[39m) \u001b[38;5;241m+\u001b[39m orig_args\n\u001b[1;32m--> 559\u001b[0m     \u001b[38;5;28;01mreturn\u001b[39;00m \u001b[38;5;28mself\u001b[39m\u001b[38;5;241m.\u001b[39m_call_chain(\u001b[38;5;241m*\u001b[39margs)\n",
      "File \u001b[1;32mc:\\Users\\fauzan\\anaconda3\\Lib\\urllib\\request.py:492\u001b[0m, in \u001b[0;36mOpenerDirector._call_chain\u001b[1;34m(self, chain, kind, meth_name, *args)\u001b[0m\n\u001b[0;32m    490\u001b[0m \u001b[38;5;28;01mfor\u001b[39;00m handler \u001b[38;5;129;01min\u001b[39;00m handlers:\n\u001b[0;32m    491\u001b[0m     func \u001b[38;5;241m=\u001b[39m \u001b[38;5;28mgetattr\u001b[39m(handler, meth_name)\n\u001b[1;32m--> 492\u001b[0m     result \u001b[38;5;241m=\u001b[39m func(\u001b[38;5;241m*\u001b[39margs)\n\u001b[0;32m    493\u001b[0m     \u001b[38;5;28;01mif\u001b[39;00m result \u001b[38;5;129;01mis\u001b[39;00m \u001b[38;5;129;01mnot\u001b[39;00m \u001b[38;5;28;01mNone\u001b[39;00m:\n\u001b[0;32m    494\u001b[0m         \u001b[38;5;28;01mreturn\u001b[39;00m result\n",
      "File \u001b[1;32mc:\\Users\\fauzan\\anaconda3\\Lib\\urllib\\request.py:639\u001b[0m, in \u001b[0;36mHTTPDefaultErrorHandler.http_error_default\u001b[1;34m(self, req, fp, code, msg, hdrs)\u001b[0m\n\u001b[0;32m    638\u001b[0m \u001b[38;5;28;01mdef\u001b[39;00m \u001b[38;5;21mhttp_error_default\u001b[39m(\u001b[38;5;28mself\u001b[39m, req, fp, code, msg, hdrs):\n\u001b[1;32m--> 639\u001b[0m     \u001b[38;5;28;01mraise\u001b[39;00m HTTPError(req\u001b[38;5;241m.\u001b[39mfull_url, code, msg, hdrs, fp)\n",
      "\u001b[1;31mHTTPError\u001b[0m: HTTP Error 403: No Access to this country as free user."
     ]
    }
   ],
   "source": [
    "import tradingeconomics as te\n",
    "te.login(api_key)\n",
    "te.getHistoricalData(country='united states', indicator='soybean')\n"
   ]
  },
  {
   "cell_type": "code",
   "execution_count": 1,
   "metadata": {},
   "outputs": [
    {
     "name": "stdout",
     "output_type": "stream",
     "text": [
      "WARNING:tensorflow:From c:\\Users\\fauzan\\anaconda3\\envs\\nasa\\lib\\site-packages\\keras\\src\\losses.py:2976: The name tf.losses.sparse_softmax_cross_entropy is deprecated. Please use tf.compat.v1.losses.sparse_softmax_cross_entropy instead.\n",
      "\n",
      "WARNING:tensorflow:From c:\\Users\\fauzan\\anaconda3\\envs\\nasa\\lib\\site-packages\\keras\\src\\backend.py:1398: The name tf.executing_eagerly_outside_functions is deprecated. Please use tf.compat.v1.executing_eagerly_outside_functions instead.\n",
      "\n",
      "Model: \"sequential\"\n",
      "_________________________________________________________________\n",
      " Layer (type)                Output Shape              Param #   \n",
      "=================================================================\n",
      " lstm (LSTM)                 (None, None, 50)          10400     \n",
      "                                                                 \n",
      " dropout (Dropout)           (None, None, 50)          0         \n",
      "                                                                 \n",
      " lstm_1 (LSTM)               (None, None, 50)          20200     \n",
      "                                                                 \n",
      " dropout_1 (Dropout)         (None, None, 50)          0         \n",
      "                                                                 \n",
      " lstm_2 (LSTM)               (None, None, 50)          20200     \n",
      "                                                                 \n",
      " dropout_2 (Dropout)         (None, None, 50)          0         \n",
      "                                                                 \n",
      " time_distributed (TimeDist  (None, None, 1)           51        \n",
      " ributed)                                                        \n",
      "                                                                 \n",
      "=================================================================\n",
      "Total params: 50851 (198.64 KB)\n",
      "Trainable params: 50851 (198.64 KB)\n",
      "Non-trainable params: 0 (0.00 Byte)\n",
      "_________________________________________________________________\n"
     ]
    }
   ],
   "source": [
    "from tensorflow.keras.models import load_model\n",
    "\n",
    "# Memuat model .h5\n",
    "model = load_model('model\\model_Banten_Bawang Merah.h5')\n",
    "\n",
    "# Menampilkan ringkasan model\n",
    "model.summary()\n"
   ]
  },
  {
   "cell_type": "code",
   "execution_count": 2,
   "metadata": {},
   "outputs": [
    {
     "data": {
      "text/html": [
       "<div>\n",
       "<style scoped>\n",
       "    .dataframe tbody tr th:only-of-type {\n",
       "        vertical-align: middle;\n",
       "    }\n",
       "\n",
       "    .dataframe tbody tr th {\n",
       "        vertical-align: top;\n",
       "    }\n",
       "\n",
       "    .dataframe thead th {\n",
       "        text-align: right;\n",
       "    }\n",
       "</style>\n",
       "<table border=\"1\" class=\"dataframe\">\n",
       "  <thead>\n",
       "    <tr style=\"text-align: right;\">\n",
       "      <th></th>\n",
       "      <th>weather_code (wmo code)</th>\n",
       "      <th>temperature_2m_max (°C)</th>\n",
       "      <th>temperature_2m_mean (°C)</th>\n",
       "      <th>sunshine_duration (s)</th>\n",
       "      <th>precipitation_sum (mm)</th>\n",
       "      <th>rain_sum (mm)</th>\n",
       "      <th>wind_speed_10m_max (km/h)</th>\n",
       "      <th>label</th>\n",
       "    </tr>\n",
       "  </thead>\n",
       "  <tbody>\n",
       "    <tr>\n",
       "      <th>0</th>\n",
       "      <td>63.0</td>\n",
       "      <td>31.0</td>\n",
       "      <td>24.9</td>\n",
       "      <td>33224.84</td>\n",
       "      <td>20.6</td>\n",
       "      <td>20.6</td>\n",
       "      <td>16.3</td>\n",
       "      <td>la nina</td>\n",
       "    </tr>\n",
       "    <tr>\n",
       "      <th>1</th>\n",
       "      <td>65.0</td>\n",
       "      <td>30.2</td>\n",
       "      <td>25.1</td>\n",
       "      <td>22994.60</td>\n",
       "      <td>10.9</td>\n",
       "      <td>10.9</td>\n",
       "      <td>13.0</td>\n",
       "      <td>la nina</td>\n",
       "    </tr>\n",
       "    <tr>\n",
       "      <th>2</th>\n",
       "      <td>53.0</td>\n",
       "      <td>30.1</td>\n",
       "      <td>25.5</td>\n",
       "      <td>27612.70</td>\n",
       "      <td>1.7</td>\n",
       "      <td>1.7</td>\n",
       "      <td>8.7</td>\n",
       "      <td>la nina</td>\n",
       "    </tr>\n",
       "    <tr>\n",
       "      <th>3</th>\n",
       "      <td>63.0</td>\n",
       "      <td>29.1</td>\n",
       "      <td>25.4</td>\n",
       "      <td>20388.78</td>\n",
       "      <td>6.9</td>\n",
       "      <td>6.9</td>\n",
       "      <td>9.9</td>\n",
       "      <td>la nina</td>\n",
       "    </tr>\n",
       "    <tr>\n",
       "      <th>4</th>\n",
       "      <td>63.0</td>\n",
       "      <td>30.4</td>\n",
       "      <td>25.3</td>\n",
       "      <td>35931.55</td>\n",
       "      <td>11.4</td>\n",
       "      <td>11.4</td>\n",
       "      <td>7.4</td>\n",
       "      <td>la nina</td>\n",
       "    </tr>\n",
       "  </tbody>\n",
       "</table>\n",
       "</div>"
      ],
      "text/plain": [
       "   weather_code (wmo code)  temperature_2m_max (°C)  temperature_2m_mean (°C)  \\\n",
       "0                     63.0                     31.0                      24.9   \n",
       "1                     65.0                     30.2                      25.1   \n",
       "2                     53.0                     30.1                      25.5   \n",
       "3                     63.0                     29.1                      25.4   \n",
       "4                     63.0                     30.4                      25.3   \n",
       "\n",
       "   sunshine_duration (s)  precipitation_sum (mm)  rain_sum (mm)  \\\n",
       "0               33224.84                    20.6           20.6   \n",
       "1               22994.60                    10.9           10.9   \n",
       "2               27612.70                     1.7            1.7   \n",
       "3               20388.78                     6.9            6.9   \n",
       "4               35931.55                    11.4           11.4   \n",
       "\n",
       "   wind_speed_10m_max (km/h)    label  \n",
       "0                       16.3  la nina  \n",
       "1                       13.0  la nina  \n",
       "2                        8.7  la nina  \n",
       "3                        9.9  la nina  \n",
       "4                        7.4  la nina  "
      ]
     },
     "execution_count": 2,
     "metadata": {},
     "output_type": "execute_result"
    }
   ],
   "source": [
    "import pandas as pd\n",
    "df = pd.read_csv(\"Dataset El Nino & La Nina - FIX.csv\")\n",
    "df.head()"
   ]
  },
  {
   "cell_type": "markdown",
   "metadata": {},
   "source": [
    "https://api.meteomatics.com/2024-10-05T00:00:00Z--2024-10-08T00:00:00Z:PT3H/t_max_2m_3h:C,t_mean_2m_3h:C/34.0522,118.2437/json"
   ]
  },
  {
   "cell_type": "markdown",
   "metadata": {},
   "source": [
    "temperature 2 max dan mean\n",
    "https://api.meteomatics.com/2024-10-05T00:00:00Z--2024-12-08T00:00:00Z:PT24H/t_mean_2m_24h:C/34.0522,118.2437/html\n",
    "https://api.meteomatics.com/{start_date}Z--{end_date}Z:PT24H/t_mean_2m_24h:C/{lat},{lon}/json\n",
    "\n",
    "sunshine duration\n",
    "https://api.meteomatics.com/2024-10-05T00:00:00Z--2024-10-12T00:00:00Z:P1D/sunshine_duration_24h:min/47.423336,9.377225/json\n",
    "https://api.meteomatics.com/{start_date}Z--{end_date}Z:P1D/sunshine_duration_24h:min/{lat},{lon}/json\n",
    "\n",
    "\n",
    "rain_sum\n",
    "https://api.meteomatics.com/2024-10-05T12:00:00ZP100D:P1D/precip_24h:mm/50,10/json\n",
    "https://api.meteomatics.com/{waktu sekarang}ZP100D:P1D/precip_24h:mm/{lat},{lon}/json\n",
    "\n",
    "wind\n",
    "https://api.meteomatics.com/{waktu sekarang}ZP100D:P1D/wind_speed_10m:ms/{lat},{lon}/json\n",
    "https://api.meteomatics.com/2024-10-05T12:00:00ZP100D:P1D/wind_speed_10m:ms/50,10/json\n",
    "\n",
    "template \n",
    "https://api.meteomatics.com/{start_date}Z--{end_date}Z:{interval}/{parameter}/{lat},{lon}/json"
   ]
  },
  {
   "cell_type": "code",
   "execution_count": 87,
   "metadata": {},
   "outputs": [
    {
     "name": "stdout",
     "output_type": "stream",
     "text": [
      "   temperature_2m_max (°C)  precipitation_sum (mm)  wind_speed_10m_max (km/h)\n",
      "0                     27.1                   10.95                        0.7\n"
     ]
    }
   ],
   "source": [
    "import requests\n",
    "from bs4 import BeautifulSoup\n",
    "import pandas as pd\n",
    "\n",
    "lat = \"-6.211544\"\n",
    "lon = \"106.845172\"\n",
    "start_date = \"2024-10-05\"\n",
    "username = 'fajar_fauzan'\n",
    "password = 'ajdMYk291R'\n",
    "\n",
    "# Inisialisasi DataFrame kosong\n",
    "df = pd.DataFrame(columns=['date', 'sunshine', 'temperature', 'precipitation', 'wind_speed'])\n",
    "\n",
    "# Fetch temperature data\n",
    "url_temperature = f\"https://api.meteomatics.com/{start_date}T00:00:00Z--{start_date}T00:00:00Z:PT24H/t_mean_2m_24h:C/{lat},{lon}/html\"\n",
    "response_temperature = requests.get(url_temperature, auth=(username, password))\n",
    "\n",
    "if response_temperature.status_code == 200:\n",
    "    # Parse HTML content\n",
    "    soup_temperature = BeautifulSoup(response_temperature.content, 'html.parser')\n",
    "    csv_data_temperature = soup_temperature.find('pre', {'id': 'csv'}).text.strip()\n",
    "    rows_temperature = csv_data_temperature.split('\\n')[1:]  # Skip header\n",
    "    temperature_value = float(rows_temperature[0].split(';')[1])\n",
    "else:\n",
    "    print(f\"Failed to fetch temperature data. Status code: {response_temperature.status_code}\")\n",
    "    temperature_value = None\n",
    "\n",
    "# Fetch precipitation data\n",
    "url_precipitation = f\"https://api.meteomatics.com/{start_date}T00:00:00ZP100D:P1D/precip_24h:mm/{lat},{lon}/json\"\n",
    "response_precipitation = requests.get(url_precipitation, auth=(username, password))\n",
    "\n",
    "if response_precipitation.status_code == 200:\n",
    "    precipitation_data = response_precipitation.json()\n",
    "    precipitation_value = precipitation_data['data'][0]['coordinates'][0]['dates'][0]['value']\n",
    "else:\n",
    "    print(f\"Failed to fetch precipitation data. Status code: {response_precipitation.status_code}\")\n",
    "    precipitation_value = None\n",
    "\n",
    "# Fetch wind speed data\n",
    "url_wind_speed = f\"https://api.meteomatics.com/{start_date}T00:00:00ZP100D:P1D/wind_speed_10m:ms/{lat},{lon}/json\"\n",
    "response_wind_speed = requests.get(url_wind_speed, auth=(username, password))\n",
    "\n",
    "if response_wind_speed.status_code == 200:\n",
    "    wind_speed_data = response_wind_speed.json()\n",
    "    wind_speed_value = wind_speed_data['data'][0]['coordinates'][0]['dates'][0]['value']\n",
    "else:\n",
    "    print(f\"Failed to fetch wind speed data. Status code: {response_wind_speed.status_code}\")\n",
    "    wind_speed_value = None\n",
    "\n",
    "new_data = pd.DataFrame({\n",
    "    'temperature_2m_max (°C)': [temperature_value],\n",
    "    'precipitation_sum (mm)': [precipitation_value],\n",
    "    'wind_speed_10m_max (km/h)': [wind_speed_value]\n",
    "})\n",
    "# Tampilkan DataFrame\n",
    "print(new_data)\n"
   ]
  },
  {
   "cell_type": "code",
   "execution_count": 82,
   "metadata": {},
   "outputs": [
    {
     "name": "stdout",
     "output_type": "stream",
     "text": [
      "CatBoost Accuracy test: 70.31%\n",
      "CatBoost Accuracy train: 74.15%\n"
     ]
    }
   ],
   "source": [
    "# Import libraries\n",
    "import pandas as pd\n",
    "from sklearn.model_selection import train_test_split\n",
    "from sklearn.preprocessing import LabelEncoder\n",
    "from sklearn.ensemble import RandomForestClassifier\n",
    "from sklearn.metrics import accuracy_score\n",
    "from xgboost import XGBClassifier\n",
    "from catboost import CatBoostClassifier\n",
    "import lightgbm as lgb\n",
    "\n",
    "# 1. Load dataset\n",
    "df = pd.read_csv(\"Dataset El Nino & La Nina - FIX.csv\")\n",
    "df['label'] = df['label'].replace({'El Nino': 0, 'La Nina': 1})\n",
    "# 2. Pisahkan fitur dan target\n",
    "X = df.drop(columns=['label','weather_code (wmo code)','temperature_2m_mean (°C)','rain_sum (mm)','sunshine_duration (s)'])  # Drop kolom 'label'\n",
    "y = df['label']                 # Ambil kolom target\n",
    "\n",
    "# 3. Encode target labels (label encoding)\n",
    "label_encoder = LabelEncoder()\n",
    "y_encoded = label_encoder.fit_transform(y)\n",
    "\n",
    "# 4. Split data menjadi training dan testing set (contoh 80/20 split)\n",
    "X_train, X_test, y_train, y_test = train_test_split(X, y_encoded, test_size=0.2, random_state=42)\n",
    "\n",
    "# 5. Inisialisasi dan latih berbagai model\n",
    "\n",
    "# CatBoost\n",
    "catboost_model = CatBoostClassifier(verbose=0)  # verbose=0 agar output training tidak ditampilkan\n",
    "catboost_model.fit(X_train, y_train)\n",
    "catboost_pred = catboost_model.predict(X_test)\n",
    "catboost_acc = accuracy_score(y_test, catboost_pred)\n",
    "print(f\"CatBoost Accuracy test: {catboost_acc * 100:.2f}%\")\n",
    "\n",
    "catboost_pred = catboost_model.predict(X_train)\n",
    "catboost_acc = accuracy_score(y_train, catboost_pred)\n",
    "print(f\"CatBoost Accuracy train: {catboost_acc * 100:.2f}%\")"
   ]
  },
  {
   "cell_type": "code",
   "execution_count": 91,
   "metadata": {},
   "outputs": [],
   "source": [
    "import pickle\n",
    "# Simpan model ke dalam file .pkl\n",
    "with open('catboost_model.pkl', 'wb') as file:\n",
    "    pickle.dump(catboost_model, file)"
   ]
  },
  {
   "cell_type": "code",
   "execution_count": 95,
   "metadata": {},
   "outputs": [
    {
     "data": {
      "text/plain": [
       "0.8983681397143299"
      ]
     },
     "execution_count": 95,
     "metadata": {},
     "output_type": "execute_result"
    }
   ],
   "source": [
    "catboost_proba = catboost_model.predict_proba(new_data)\n",
    "catboost_proba[0][0]"
   ]
  },
  {
   "cell_type": "code",
   "execution_count": 12,
   "metadata": {},
   "outputs": [
    {
     "name": "stdout",
     "output_type": "stream",
     "text": [
      "Probabilitas untuk setiap class:\n",
      "[[0.82366118 0.17633882]\n",
      " [0.44586653 0.55413347]\n",
      " [0.31681941 0.68318059]\n",
      " ...\n",
      " [0.58878441 0.41121559]\n",
      " [0.62308091 0.37691909]\n",
      " [0.51450274 0.48549726]]\n"
     ]
    }
   ],
   "source": [
    "# Import necessary libraries (if not already imported)\n",
    "from sklearn.metrics import accuracy_score\n",
    "\n",
    "# Train the CatBoost model\n",
    "catboost_model = CatBoostClassifier(verbose=0)  # verbose=0 agar output training tidak ditampilkan\n",
    "catboost_model.fit(X_train, y_train)\n",
    "\n",
    "# Predict the class probabilities\n",
    "catboost_proba = catboost_model.predict_proba(X_test)\n",
    "\n",
    "# Menampilkan probabilitas untuk target class (misal, 2 class)\n",
    "print(\"Probabilitas untuk setiap class:\")\n",
    "print(catboost_proba)\n",
    "\n",
    "# Jika Anda ingin probabilitas untuk target class tertentu (misal, class 1), Anda bisa mengambil kolom tertentu:\n",
    "# # Probabilitas class 1\n",
    "# proba_class_1 = catboost_proba[:, 1]\n",
    "# print(f\"Probabilitas untuk target class 1:\")\n",
    "# print(proba_class_1)\n",
    "\n",
    "# # Jika ingin melihat probabilitas tertinggi untuk setiap prediksi, Anda bisa melakukan:\n",
    "# y_pred_prob = catboost_proba.max(axis=1)\n",
    "# print(f\"Probabilitas tertinggi untuk setiap prediksi: {y_pred_prob}\")\n"
   ]
  },
  {
   "cell_type": "code",
   "execution_count": 14,
   "metadata": {},
   "outputs": [
    {
     "data": {
      "text/plain": [
       "array([0.17633882, 0.55413347, 0.68318059, 0.1132697 , 0.25437646,\n",
       "       0.75217929, 0.39088623, 0.1447262 , 0.06210579, 0.53480169])"
      ]
     },
     "execution_count": 14,
     "metadata": {},
     "output_type": "execute_result"
    }
   ],
   "source": [
    "catboost_proba[:10,1]"
   ]
  },
  {
   "cell_type": "code",
   "execution_count": 15,
   "metadata": {},
   "outputs": [
    {
     "data": {
      "text/plain": [
       "array([0.82366118, 0.44586653, 0.31681941, 0.8867303 , 0.74562354,\n",
       "       0.24782071, 0.60911377, 0.8552738 , 0.93789421, 0.46519831])"
      ]
     },
     "execution_count": 15,
     "metadata": {},
     "output_type": "execute_result"
    }
   ],
   "source": [
    "catboost_proba[:10,0]"
   ]
  },
  {
   "cell_type": "code",
   "execution_count": null,
   "metadata": {},
   "outputs": [],
   "source": []
  }
 ],
 "metadata": {
  "kernelspec": {
   "display_name": "base",
   "language": "python",
   "name": "python3"
  },
  "language_info": {
   "codemirror_mode": {
    "name": "ipython",
    "version": 3
   },
   "file_extension": ".py",
   "mimetype": "text/x-python",
   "name": "python",
   "nbconvert_exporter": "python",
   "pygments_lexer": "ipython3",
   "version": "3.10.15"
  }
 },
 "nbformat": 4,
 "nbformat_minor": 2
}
